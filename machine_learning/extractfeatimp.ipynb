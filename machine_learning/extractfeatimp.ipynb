{
 "cells": [
  {
   "cell_type": "code",
   "execution_count": null,
   "metadata": {},
   "outputs": [],
   "source": [
    "import pandas as pd\n",
    "import xgboost as xgb\n",
    "import joblib\n",
    "import matplotlib.pyplot as plt"
   ]
  },
  {
   "cell_type": "code",
   "execution_count": null,
   "metadata": {},
   "outputs": [],
   "source": [
    "model = joblib.load('/home/ec2-user/trainset-norm-pt-2k-xgboost-NCG-gene.joblib')"
   ]
  },
  {
   "cell_type": "code",
   "execution_count": null,
   "metadata": {},
   "outputs": [],
   "source": [
    "weightimp = model.get_booster().get_score(importance_type='weight')\n",
    "dfweightimp = pd.DataFrame(list(weightimp.items()), columns = ['FEATURE' , 'SCORE'])"
   ]
  },
  {
   "cell_type": "code",
   "execution_count": null,
   "metadata": {},
   "outputs": [],
   "source": [
    "lst_feature = dfweightimp.sort_values(by='SCORE',ascending=False)['FEATURE']\n",
    "lst_score = dfweightimp.sort_values(by='SCORE',ascending=False)['SCORE']"
   ]
  },
  {
   "cell_type": "code",
   "execution_count": null,
   "metadata": {},
   "outputs": [],
   "source": [
    "with open('xgbfeaimp_weight_full_lst.txt', 'w') as f:\n",
    "    for i in lst_feature:\n",
    "        f.write(i+'\\n')"
   ]
  },
  {
   "cell_type": "code",
   "execution_count": null,
   "metadata": {},
   "outputs": [],
   "source": [
    "df_plot = pd.DataFrame(zip(lst_feature[:30],lst_score[:30]),columns=['feature','score'])\n",
    "df_plot.plot.bar(\"feature\",\"score\",color = 'grey', rot=90, width = 0.8)\n",
    "plt.ylabel('Score')\n",
    "plt.xlabel('Genes')\n",
    "plt.legend().remove()\n",
    "plt.title('XGBoost Feature Importance (Top30 Weight)')\n",
    "plt.savefig('xgboost_feature_imp_weight.png', dpi=300, bbox_inches='tight')"
   ]
  },
  {
   "cell_type": "code",
   "execution_count": null,
   "metadata": {},
   "outputs": [],
   "source": [
    "gainimp = model.get_booster().get_score(importance_type='gain')\n",
    "dfgainimp = pd.DataFrame(list(gainimp.items()), columns = ['FEATURE' , 'SCORE'])"
   ]
  },
  {
   "cell_type": "code",
   "execution_count": null,
   "metadata": {},
   "outputs": [],
   "source": [
    "lst_feature = dfgainimp.sort_values(by='SCORE',ascending=False)['FEATURE']\n",
    "lst_score = dfgainimp.sort_values(by='SCORE',ascending=False)['SCORE']"
   ]
  },
  {
   "cell_type": "code",
   "execution_count": null,
   "metadata": {},
   "outputs": [],
   "source": [
    "with open('xgbfeaimp_gain_full_lst.txt', 'w') as f:\n",
    "    for i in lst_feature:\n",
    "        f.write(i+'\\n')"
   ]
  },
  {
   "cell_type": "code",
   "execution_count": null,
   "metadata": {},
   "outputs": [],
   "source": [
    "df_plot = pd.DataFrame(zip(lst_feature[:30],lst_score[:30]),columns=['feature','score'])\n",
    "df_plot.plot.bar(\"feature\",\"score\",color = 'grey', rot=90, width = 0.8)\n",
    "plt.ylabel('Score')\n",
    "plt.xlabel('Genes')\n",
    "plt.legend().remove()\n",
    "plt.title('XGBoost Feature Importance (Top30 Gain)')\n",
    "plt.savefig('xgboost_feature_imp_gain.png', dpi=300, bbox_inches='tight')"
   ]
  }
 ],
 "metadata": {
  "kernelspec": {
   "display_name": "ml",
   "language": "python",
   "name": "python3"
  },
  "language_info": {
   "codemirror_mode": {
    "name": "ipython",
    "version": 3
   },
   "file_extension": ".py",
   "mimetype": "text/x-python",
   "name": "python",
   "nbconvert_exporter": "python",
   "pygments_lexer": "ipython3",
   "version": "3.11.5"
  }
 },
 "nbformat": 4,
 "nbformat_minor": 2
}
