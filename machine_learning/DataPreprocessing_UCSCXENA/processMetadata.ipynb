{
 "cells": [
  {
   "cell_type": "markdown",
   "metadata": {},
   "source": [
    "Create a metadata file to help with sample extraction from the huge dataset"
   ]
  },
  {
   "cell_type": "code",
   "execution_count": null,
   "metadata": {},
   "outputs": [],
   "source": [
    "import pandas as pd"
   ]
  },
  {
   "cell_type": "code",
   "execution_count": null,
   "metadata": {},
   "outputs": [],
   "source": [
    "df = pd.read_csv('denseDataOnlyDownload.tsv', delimiter='\\t')"
   ]
  },
  {
   "cell_type": "code",
   "execution_count": null,
   "metadata": {},
   "outputs": [],
   "source": [
    "lst = ['Normal Tissue' ,'Solid Tissue Normal' ,'Primary Solid Tumor', 'Primary Tumor', 'Recurrent Solid Tumor', 'Recurrent Tumor', 'Recurrent Blood Derived Cancer - Peripheral Blood' , 'Recurrent Blood Derived Cancer - Bone Marrow', 'Primary Blood Derived Cancer - Peripheral Blood', 'Primary Blood Derived Cancer - Bone Marrow', 'Metastatic' ] \n",
    "mapping = {\n",
    "     'Normal Tissue' : 'normal',\n",
    "     'Solid Tissue Normal' : 'normal',\n",
    "     'Primary Solid Tumor' : 'cancer',\n",
    "     'Primary Tumor' : 'cancer',\n",
    "     'Recurrent Solid Tumor' : 'cancer',\n",
    "     'Recurrent Tumor' : 'cancer',\n",
    "     'Recurrent Blood Derived Cancer - Peripheral Blood' : 'cancer',\n",
    "     'Recurrent Blood Derived Cancer - Bone Marrow' : 'cancer',\n",
    "     'Primary Blood Derived Cancer - Peripheral Blood' : 'cancer',\n",
    "     'Primary Blood Derived Cancer - Bone Marrow' : 'cancer',\n",
    "     'Metastatic' : 'cancer',\n",
    "}"
   ]
  },
  {
   "cell_type": "code",
   "execution_count": null,
   "metadata": {},
   "outputs": [],
   "source": [
    "lst_name = []\n",
    "with open ('column_names.txt', 'r') as file:\n",
    "    for line in file:\n",
    "        lst_name.append(line.strip())\n",
    "lst_name = lst_name [1:]"
   ]
  },
  {
   "cell_type": "markdown",
   "metadata": {},
   "source": [
    "Match the sample ID from the dataset to its metadata "
   ]
  },
  {
   "cell_type": "code",
   "execution_count": null,
   "metadata": {},
   "outputs": [],
   "source": [
    "df = df[df['samples'].isin(lst_name)]"
   ]
  },
  {
   "cell_type": "markdown",
   "metadata": {},
   "source": [
    "Only select the sample type in the lst "
   ]
  },
  {
   "cell_type": "code",
   "execution_count": null,
   "metadata": {},
   "outputs": [],
   "source": [
    "df_filtered = df[df['_sample_type'].isin(lst)]"
   ]
  },
  {
   "cell_type": "markdown",
   "metadata": {},
   "source": [
    "Map the sample type to either cancer or normal (relabel sample)"
   ]
  },
  {
   "cell_type": "code",
   "execution_count": null,
   "metadata": {},
   "outputs": [],
   "source": [
    "df_filtered['condition'] = df_filtered['_sample_type'].map(mapping)"
   ]
  },
  {
   "cell_type": "code",
   "execution_count": null,
   "metadata": {},
   "outputs": [],
   "source": [
    "from sklearn.model_selection import train_test_split\n",
    "\n",
    "# Set the random seed for reproducibility\n",
    "seed = 42\n",
    "\n",
    "# Shuffle the DataFrame\n",
    "df_shuffled = df_filtered.sample(frac=1, random_state=seed)\n",
    "\n",
    "# Extract 5000 rows labeled as \"cancer\" and 5000 rows labeled as \"normal\"\n",
    "df_cancer = df_shuffled[df_shuffled['condition'] == 'cancer'].sample(5000, random_state=seed)\n",
    "df_normal = df_shuffled[df_shuffled['condition'] == 'normal'].sample(5000, random_state=seed)\n",
    "\n",
    "# Split the \"cancer\" and \"normal\" data into training and testing sets\n",
    "train_size = 3000\n",
    "test_size = 2000\n",
    "\n",
    "df_cancer_train, df_cancer_test = train_test_split(df_cancer, train_size=train_size, test_size=test_size, random_state=seed)\n",
    "df_normal_train, df_normal_test = train_test_split(df_normal, train_size=train_size, test_size=test_size, random_state=seed)"
   ]
  },
  {
   "cell_type": "code",
   "execution_count": null,
   "metadata": {},
   "outputs": [],
   "source": [
    "columns_to_keep = ['samples', 'condition']\n",
    "\n",
    "df_cancer_train = df_cancer_train.loc[:, columns_to_keep]\n",
    "df_cancer_test = df_cancer_test.loc[:, columns_to_keep]\n",
    "df_normal_train = df_normal_train.loc[:, columns_to_keep]\n",
    "df_normal_test = df_normal_test.loc[:, columns_to_keep]"
   ]
  },
  {
   "cell_type": "code",
   "execution_count": null,
   "metadata": {},
   "outputs": [],
   "source": [
    "df_cancer_train.to_csv('cancer_train_metadata.csv', index=False)\n",
    "df_cancer_test.to_csv('cancer_test_metadata.csv', index=False)\n",
    "df_normal_train.to_csv('normal_train_metadata.csv', index=False)\n",
    "df_normal_test.to_csv('normal_test_metadata.csv', index=False)"
   ]
  }
 ],
 "metadata": {
  "kernelspec": {
   "display_name": "plotenv",
   "language": "python",
   "name": "python3"
  },
  "language_info": {
   "codemirror_mode": {
    "name": "ipython",
    "version": 3
   },
   "file_extension": ".py",
   "mimetype": "text/x-python",
   "name": "python",
   "nbconvert_exporter": "python",
   "pygments_lexer": "ipython3",
   "version": "3.11.6"
  }
 },
 "nbformat": 4,
 "nbformat_minor": 2
}
