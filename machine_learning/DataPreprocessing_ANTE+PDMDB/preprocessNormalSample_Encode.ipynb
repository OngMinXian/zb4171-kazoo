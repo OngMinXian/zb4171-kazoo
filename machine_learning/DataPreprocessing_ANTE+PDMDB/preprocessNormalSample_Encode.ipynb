{
 "cells": [
  {
   "cell_type": "markdown",
   "metadata": {},
   "source": [
    "Extract RSEM counts from normal sample and merge into a dataframe  (downloaded from ENCODE)"
   ]
  },
  {
   "cell_type": "code",
   "execution_count": null,
   "metadata": {},
   "outputs": [],
   "source": [
    "import boto3\n",
    "import pandas as pd\n",
    "\n",
    "# AWS cilents\n",
    "s3_client = boto3.client('s3')\n",
    "\n",
    "# Find filename of all cancer tsv files for input into DESeq\n",
    "print('Getting df of normal sample')\n",
    "\n",
    "# Find filename of all normal tsv files for input into DESeq\n",
    "print('Getting df of normal counts')\n",
    "normal_data = []\n",
    "for obj in s3_client.list_objects(Bucket='zb4171', Prefix='kazoo/data_array/')['Contents']:\n",
    "        obj_key = obj['Key']\n",
    "        if (obj_key.endswith('.tsv')) and (obj_key.split('/')[-1].startswith('ENCFF')):\n",
    "            sample_id = obj_key.split('/')[-1].split('.')[-2]\n",
    "            tsv_file = s3_client.get_object(Bucket='zb4171', Key=obj_key)['Body']\n",
    "            df = pd.read_csv(tsv_file, sep='\\t')\n",
    "            df = df[['gene_id', 'expected_count']].rename(columns={'expected_count': sample_id})\n",
    "            normal_data.append(df)\n",
    "            \n",
    "# Make count matrix\n",
    "print('Make count matrix')\n",
    "df_counts = pd.DataFrame()\n",
    "for df in normal_data:\n",
    "    if df_counts.empty:\n",
    "        df_counts = df\n",
    "    else:\n",
    "        df_counts = df_counts.merge(df, on='gene_id', how='inner')\n",
    "\n",
    "\n",
    "# Fill na with 0 and remove rows with all 0\n",
    "df_counts = df_counts.fillna(0)\n",
    "\n",
    "df_counts.to_csv('normal_counts.tsv', sep='\\t')"
   ]
  },
  {
   "cell_type": "markdown",
   "metadata": {},
   "source": [
    "Convert Ensembl ID to gene symbol"
   ]
  },
  {
   "cell_type": "code",
   "execution_count": null,
   "metadata": {},
   "outputs": [],
   "source": [
    "import pandas as pd\n",
    "import numpy as np"
   ]
  },
  {
   "cell_type": "code",
   "execution_count": null,
   "metadata": {},
   "outputs": [],
   "source": [
    "df = pd.read_csv('normal_counts.tsv',delimiter='\\t')\n",
    "df.drop(columns='Unnamed: 0', inplace=True)"
   ]
  },
  {
   "cell_type": "markdown",
   "metadata": {},
   "source": [
    "Initialise the mapper dictionary "
   ]
  },
  {
   "cell_type": "code",
   "execution_count": null,
   "metadata": {},
   "outputs": [],
   "source": [
    "dfmapper = pd.read_csv('mapper.csv')\n",
    "mapperDict = {}\n",
    "for ind, row in dfmapper.iterrows():\n",
    "    if row[0] not in mapperDict:\n",
    "        mapperDict[row[0]] = row[1]\n",
    "    else:\n",
    "        print(row)"
   ]
  },
  {
   "cell_type": "code",
   "execution_count": null,
   "metadata": {},
   "outputs": [],
   "source": [
    "newGeneID= []\n",
    "for ind, row in df.iterrows():\n",
    "    if row[0] in mapperDict:\n",
    "        newGeneID.append(mapperDict[row[0]])\n",
    "    else:\n",
    "        newGeneID.append(np.nan) "
   ]
  },
  {
   "cell_type": "code",
   "execution_count": null,
   "metadata": {},
   "outputs": [],
   "source": [
    "df['gene_id'] = newGeneID"
   ]
  },
  {
   "cell_type": "markdown",
   "metadata": {},
   "source": [
    "Remove any Ensembl id that does not have a gene symbol"
   ]
  },
  {
   "cell_type": "code",
   "execution_count": null,
   "metadata": {},
   "outputs": [],
   "source": [
    "df.dropna(inplace=True)"
   ]
  },
  {
   "cell_type": "code",
   "execution_count": null,
   "metadata": {},
   "outputs": [],
   "source": [
    "df.to_csv('normal_counts.csv',index=False)"
   ]
  }
 ],
 "metadata": {
  "kernelspec": {
   "display_name": "ml",
   "language": "python",
   "name": "python3"
  },
  "language_info": {
   "codemirror_mode": {
    "name": "ipython",
    "version": 3
   },
   "file_extension": ".py",
   "mimetype": "text/x-python",
   "name": "python",
   "nbconvert_exporter": "python",
   "pygments_lexer": "ipython3",
   "version": "3.11.5"
  }
 },
 "nbformat": 4,
 "nbformat_minor": 2
}
