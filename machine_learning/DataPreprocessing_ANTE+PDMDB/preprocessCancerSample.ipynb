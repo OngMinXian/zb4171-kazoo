{
 "cells": [
  {
   "cell_type": "markdown",
   "metadata": {},
   "source": [
    "Extract the RSEM counts from cancer samples and merge into a dataframe"
   ]
  },
  {
   "cell_type": "code",
   "execution_count": null,
   "metadata": {},
   "outputs": [],
   "source": [
    "import boto3\n",
    "import pandas as pd\n",
    "\n",
    "# AWS cilents\n",
    "s3_client = boto3.client('s3')\n",
    "\n",
    "# Find filename of all cancer tsv files for input into DESeq\n",
    "print('Getting df of cancer counts')\n",
    "cancer_data = []\n",
    "for obj in s3_client.list_objects(Bucket='zb4171', Prefix='kazoo/data_deseq/')['Contents']:\n",
    "    obj_key = obj['Key']\n",
    "    if obj_key.endswith('gene_counts.tsv') and 'failed_runs' not in obj_key:\n",
    "        sample_id = obj_key.split('data_deseq/')[1].split('/star_rsem/')[0]\n",
    "        tsv_file = s3_client.get_object(Bucket='zb4171', Key=obj_key)['Body']\n",
    "        df = pd.read_csv(tsv_file, sep='\\t')\n",
    "        df = df[['gene_id', 'expected_count']].rename(columns={'expected_count': sample_id})\n",
    "        cancer_data.append(df)\n",
    "\n",
    "\n",
    "# Make count matrix\n",
    "print('Make count matrix')\n",
    "df_counts = pd.DataFrame()\n",
    "for df in cancer_data:\n",
    "    if df_counts.empty:\n",
    "        df_counts = df\n",
    "    else:\n",
    "        df_counts = df_counts.merge(df, on='gene_id', how='inner')\n",
    "\n",
    "\n",
    "# Fill na with 0 and remove rows with all 0\n",
    "df_counts = df_counts.fillna(0)\n",
    "\n",
    "df_counts.to_csv('cancer_counts.tsv', sep='\\t')"
   ]
  }
 ],
 "metadata": {
  "kernelspec": {
   "display_name": "ml",
   "language": "python",
   "name": "python3"
  },
  "language_info": {
   "codemirror_mode": {
    "name": "ipython",
    "version": 3
   },
   "file_extension": ".py",
   "mimetype": "text/x-python",
   "name": "python",
   "nbconvert_exporter": "python",
   "pygments_lexer": "ipython3",
   "version": "3.11.5"
  }
 },
 "nbformat": 4,
 "nbformat_minor": 2
}
