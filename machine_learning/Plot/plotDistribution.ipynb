{
 "cells": [
  {
   "cell_type": "markdown",
   "metadata": {},
   "source": [
    "owndata refers to the data from Pdmdb + ANTE "
   ]
  },
  {
   "cell_type": "markdown",
   "metadata": {},
   "source": [
    "Plot count distribution "
   ]
  },
  {
   "cell_type": "code",
   "execution_count": null,
   "metadata": {},
   "outputs": [],
   "source": [
    "import pandas as pd\n",
    "import seaborn as sns\n",
    "import matplotlib.pyplot as plt\n",
    "\n",
    "df = pd.read_csv('owndata_raw_norm_pt.csv')"
   ]
  },
  {
   "cell_type": "code",
   "execution_count": null,
   "metadata": {},
   "outputs": [],
   "source": [
    "# df.set_index('gene_id',drop=True,inplace=True)"
   ]
  },
  {
   "cell_type": "code",
   "execution_count": null,
   "metadata": {},
   "outputs": [],
   "source": [
    "# Melt the DataFrame to long format\n",
    "df_melted = df.melt(id_vars='gene_id', var_name='sampleID', value_name='count')\n",
    "\n",
    "# Sample 5000 rows\n",
    "df_sampled = df_melted.sample(n=5000, replace=False)"
   ]
  },
  {
   "cell_type": "code",
   "execution_count": null,
   "metadata": {},
   "outputs": [],
   "source": [
    "# Plotting\n",
    "plt.figure(figsize=(10, 6))\n",
    "sns.histplot(data=df_sampled, x='count', bins=200)\n",
    "plt.xlabel('Raw Counts')\n",
    "plt.ylabel('Frequency')\n",
    "plt.savefig('owndata_raw_norm_pt_dist.png',dpi=300)"
   ]
  },
  {
   "cell_type": "markdown",
   "metadata": {},
   "source": [
    "Plot Variance VS Mean Count"
   ]
  },
  {
   "cell_type": "code",
   "execution_count": null,
   "metadata": {},
   "outputs": [],
   "source": [
    "import pandas as pd\n",
    "import matplotlib.pyplot as plt\n",
    "import seaborn as sns\n",
    "\n",
    "\n",
    "df = pd.read_csv('owndata_raw_norm_pt.csv')\n",
    "df.set_index('gene_id',drop=True,inplace=True)"
   ]
  },
  {
   "cell_type": "code",
   "execution_count": null,
   "metadata": {},
   "outputs": [],
   "source": [
    "df_sampled = df.sample(n=5000, replace=False)"
   ]
  },
  {
   "cell_type": "code",
   "execution_count": null,
   "metadata": {},
   "outputs": [],
   "source": [
    "# Calculate row mean and variance\n",
    "df_sampled['row_mean'] = df_sampled.mean(axis=1)\n",
    "df_sampled['row_var'] = df_sampled.var(axis=1)\n",
    "\n",
    "# Filter out rows where variance is less than 5000\n",
    "df_filtered = df_sampled[df_sampled['row_var'] < 5000]\n"
   ]
  },
  {
   "cell_type": "code",
   "execution_count": null,
   "metadata": {},
   "outputs": [],
   "source": [
    "# Plotting\n",
    "plt.figure(figsize=(10, 6))\n",
    "sns.scatterplot(x='row_mean', y='row_var', data=df_filtered, alpha=0.1)\n",
    "plt.xlabel('Mean Count')\n",
    "plt.ylabel('Variance')\n",
    "# plt.show()\n",
    "plt.savefig('owndata_raw_norm_pt_variance.png',dpi=300)"
   ]
  }
 ],
 "metadata": {
  "kernelspec": {
   "display_name": "ml",
   "language": "python",
   "name": "python3"
  },
  "language_info": {
   "codemirror_mode": {
    "name": "ipython",
    "version": 3
   },
   "file_extension": ".py",
   "mimetype": "text/x-python",
   "name": "python",
   "nbconvert_exporter": "python",
   "pygments_lexer": "ipython3",
   "version": "3.11.5"
  }
 },
 "nbformat": 4,
 "nbformat_minor": 2
}
