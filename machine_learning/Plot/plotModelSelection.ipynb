{
 "cells": [
  {
   "cell_type": "markdown",
   "metadata": {},
   "source": [
    "PLOT Model Selection"
   ]
  },
  {
   "cell_type": "code",
   "execution_count": null,
   "metadata": {},
   "outputs": [],
   "source": [
    "import pandas as pd\n",
    "import seaborn as sns\n",
    "import matplotlib.pyplot as plt"
   ]
  },
  {
   "cell_type": "code",
   "execution_count": null,
   "metadata": {},
   "outputs": [],
   "source": [
    "df = pd.read_csv('modelselectionresult_2k_norm_pt_weight_gene_top20.csv')"
   ]
  },
  {
   "cell_type": "markdown",
   "metadata": {},
   "source": [
    "Parse the dataframe"
   ]
  },
  {
   "cell_type": "code",
   "execution_count": null,
   "metadata": {},
   "outputs": [],
   "source": [
    "valid_acc_score = df['list_score'].apply(lambda x: x.split(', ')[0][1:]).astype(float)\n",
    "valid_f1_score = df['list_score'].apply(lambda x: x.split(', ')[1][:-1]).astype(float)\n",
    "test_acc_score = df['list_testsetscore'].apply(lambda x: x.split(', ')[0][1:]).astype(float)\n",
    "test_f1_score =  df['list_testsetscore'].apply(lambda x: x.split(', ')[1][:-1]).astype(float)"
   ]
  },
  {
   "cell_type": "code",
   "execution_count": null,
   "metadata": {},
   "outputs": [],
   "source": [
    "modeltype = (['randomforest']*10) + (['xgboost']*10) + (['lgbm']*10) + (['svc']*10)\n",
    "datatype = (['validation'] * 40) + (['test'] * 40)"
   ]
  },
  {
   "cell_type": "code",
   "execution_count": null,
   "metadata": {},
   "outputs": [],
   "source": [
    "modeltype = modeltype + modeltype"
   ]
  },
  {
   "cell_type": "code",
   "execution_count": null,
   "metadata": {},
   "outputs": [],
   "source": [
    "accuracy = list(valid_acc_score) + list(test_acc_score)\n",
    "f1_score = list(valid_f1_score) + list(test_f1_score)"
   ]
  },
  {
   "cell_type": "code",
   "execution_count": null,
   "metadata": {},
   "outputs": [],
   "source": [
    "finaldf = pd.DataFrame(zip(modeltype,datatype,accuracy,f1_score),columns=['model','type','accuracy','f1score'])"
   ]
  },
  {
   "cell_type": "code",
   "execution_count": null,
   "metadata": {},
   "outputs": [],
   "source": [
    "sns.violinplot(x='model', y='f1score', hue='type', data=finaldf, showfliers=True, notch=False)\n",
    "plt.title('Model Selection')\n",
    "plt.legend(loc='lower right')\n",
    "plt.savefig('model_selection_10fcv_featimp_weight_20genes.png', dpi=300, bbox_inches='tight')"
   ]
  }
 ],
 "metadata": {
  "kernelspec": {
   "display_name": "ml",
   "language": "python",
   "name": "python3"
  },
  "language_info": {
   "codemirror_mode": {
    "name": "ipython",
    "version": 3
   },
   "file_extension": ".py",
   "mimetype": "text/x-python",
   "name": "python",
   "nbconvert_exporter": "python",
   "pygments_lexer": "ipython3",
   "version": "3.11.5"
  }
 },
 "nbformat": 4,
 "nbformat_minor": 2
}
