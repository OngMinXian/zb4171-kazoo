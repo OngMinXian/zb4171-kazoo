{
 "cells": [
  {
   "cell_type": "code",
   "execution_count": null,
   "metadata": {},
   "outputs": [],
   "source": [
    "import pandas as pd\n",
    "import matplotlib.pyplot as plt"
   ]
  },
  {
   "cell_type": "markdown",
   "metadata": {},
   "source": [
    "Plot linechart to show the optimum number of genes selection from gain metric"
   ]
  },
  {
   "cell_type": "code",
   "execution_count": null,
   "metadata": {},
   "outputs": [],
   "source": [
    "df_gain = pd.read_csv('10fcv_gain_selection.csv').drop(columns='Unnamed: 0')\n",
    "df_gain['num_genes']  = list(210 - df_gain.index)"
   ]
  },
  {
   "cell_type": "code",
   "execution_count": null,
   "metadata": {},
   "outputs": [],
   "source": [
    "df_gain['ave_accuracy'] = df_gain['ave_accuracy'].apply(lambda x: x/10)\n",
    "df_gain['ave_f1score'] = df_gain['ave_f1score'].apply(lambda x: x/10)"
   ]
  },
  {
   "cell_type": "code",
   "execution_count": null,
   "metadata": {},
   "outputs": [],
   "source": [
    "df_gain[df_gain['ave_f1score']==(df_gain['ave_f1score'].max())]"
   ]
  },
  {
   "cell_type": "code",
   "execution_count": null,
   "metadata": {},
   "outputs": [],
   "source": [
    "df_gain.plot(x='num_genes',y='ave_f1score',kind='line')\n",
    "plt.axvline(x=156, color='r', linestyle='-')\n",
    "plt.ylabel('f1_score')\n",
    "plt.legend().remove()\n",
    "plt.xlabel('number of genes')\n",
    "plt.savefig('gain_stepwise_eliminate.png', dpi=300, bbox_inches='tight')"
   ]
  },
  {
   "cell_type": "markdown",
   "metadata": {},
   "source": [
    "Plot linechart to show the optimum number of genes selection from weight metric"
   ]
  },
  {
   "cell_type": "code",
   "execution_count": null,
   "metadata": {},
   "outputs": [],
   "source": [
    "df_weight = pd.read_csv('10fcv_weight_selection.csv').drop(columns='Unnamed: 0')\n",
    "df_weight['num_genes']  = list(210 - df_weight.index)"
   ]
  },
  {
   "cell_type": "code",
   "execution_count": null,
   "metadata": {},
   "outputs": [],
   "source": [
    "df_weight['ave_accuracy'] = df_weight['ave_accuracy'].apply(lambda x: x/10)\n",
    "df_weight['ave_f1score'] = df_weight['ave_f1score'].apply(lambda x: x/10)"
   ]
  },
  {
   "cell_type": "code",
   "execution_count": null,
   "metadata": {},
   "outputs": [],
   "source": [
    "df_weight[df_weight['ave_f1score']==(df_weight['ave_f1score'].max())]"
   ]
  },
  {
   "cell_type": "code",
   "execution_count": null,
   "metadata": {},
   "outputs": [],
   "source": [
    "df_weight.plot(x='num_genes',y='ave_f1score',kind='line')\n",
    "plt.axvline(x=20, color='r', linestyle='-')\n",
    "plt.ylabel('f1_score')\n",
    "plt.xlabel('number of genes')\n",
    "plt.legend().remove()\n",
    "plt.savefig('weight_stepwise_eliminate.png', dpi=300, bbox_inches='tight')\n"
   ]
  }
 ],
 "metadata": {
  "kernelspec": {
   "display_name": "ml",
   "language": "python",
   "name": "python3"
  },
  "language_info": {
   "codemirror_mode": {
    "name": "ipython",
    "version": 3
   },
   "file_extension": ".py",
   "mimetype": "text/x-python",
   "name": "python",
   "nbconvert_exporter": "python",
   "pygments_lexer": "ipython3",
   "version": "3.11.5"
  }
 },
 "nbformat": 4,
 "nbformat_minor": 2
}
