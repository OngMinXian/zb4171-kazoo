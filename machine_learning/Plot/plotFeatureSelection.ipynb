{
 "cells": [
  {
   "cell_type": "markdown",
   "metadata": {},
   "source": [
    "PLOT 10CV - feature selection "
   ]
  },
  {
   "cell_type": "code",
   "execution_count": null,
   "metadata": {},
   "outputs": [],
   "source": [
    "import pandas as pd\n",
    "import seaborn as sns\n",
    "import matplotlib.pyplot as plt"
   ]
  },
  {
   "cell_type": "code",
   "execution_count": null,
   "metadata": {},
   "outputs": [],
   "source": [
    "df1=pd.read_csv('cv_scoredf_xgb_top100deg.csv').drop(columns='Unnamed: 0')\n",
    "df2=pd.read_csv('cv_scoredf_xgb_NCG_gene_lst.csv').drop(columns='Unnamed: 0')\n",
    "df3=pd.read_csv('cv_scoredf_xgb_xgbfeaimp_gain_full_lst.csv').drop(columns='Unnamed: 0')\n",
    "df4=pd.read_csv('cv_scoredf_xgb_xgbfeaimp_gain_top156.csv').drop(columns='Unnamed: 0')\n",
    "df5=pd.read_csv('cv_scoredf_xgb_xgbfeaimp_weight_full_lst.csv').drop(columns='Unnamed: 0')\n",
    "df6=pd.read_csv('cv_scoredf_xgb_xgbfeaimp_weight_top20.csv').drop(columns='Unnamed: 0')"
   ]
  },
  {
   "cell_type": "code",
   "execution_count": null,
   "metadata": {},
   "outputs": [],
   "source": [
    "df = pd.concat([df1,df2,df3,df4,df5,df6],axis=1)\n",
    "df = df.drop(columns='accuracy')\n",
    "df.columns=['DEG','NCG','NCG_gain_all','NCG_gain_top156','NCG_weight_all','NCG_weight_top20']"
   ]
  },
  {
   "cell_type": "code",
   "execution_count": null,
   "metadata": {},
   "outputs": [],
   "source": [
    "sns.violinplot(data=df,showfliers=True)\n",
    "plt.ylabel('F1-score')\n",
    "plt.xticks(rotation=45)\n",
    "plt.savefig('xgboost_feat_selection_f1score.png', dpi=300, bbox_inches='tight')"
   ]
  }
 ],
 "metadata": {
  "kernelspec": {
   "display_name": "ml",
   "language": "python",
   "name": "python3"
  },
  "language_info": {
   "codemirror_mode": {
    "name": "ipython",
    "version": 3
   },
   "file_extension": ".py",
   "mimetype": "text/x-python",
   "name": "python",
   "nbconvert_exporter": "python",
   "pygments_lexer": "ipython3",
   "version": "3.11.5"
  }
 },
 "nbformat": 4,
 "nbformat_minor": 2
}
