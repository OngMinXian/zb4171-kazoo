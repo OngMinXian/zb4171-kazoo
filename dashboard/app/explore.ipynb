{
 "cells": [
  {
   "cell_type": "code",
   "execution_count": 1,
   "metadata": {},
   "outputs": [],
   "source": [
    "import boto3\n",
    "import pandas as pd"
   ]
  },
  {
   "cell_type": "code",
   "execution_count": 2,
   "metadata": {},
   "outputs": [],
   "source": [
    "s3_client = boto3.client('s3')"
   ]
  },
  {
   "cell_type": "code",
   "execution_count": null,
   "metadata": {},
   "outputs": [],
   "source": [
    "sample_id = '174125'"
   ]
  },
  {
   "cell_type": "code",
   "execution_count": null,
   "metadata": {},
   "outputs": [],
   "source": [
    "s3_client.get_object(Bucket='zb4171', Key=f'kazoo/results/{sample_id}/star_rsem/rsem.merged.gene_counts.tsv')['Body']"
   ]
  },
  {
   "cell_type": "code",
   "execution_count": 7,
   "metadata": {},
   "outputs": [
    {
     "name": "stdout",
     "output_type": "stream",
     "text": [
      "kazoo/results/116655/star_rsem/rsem.merged.gene_counts.tsv\n",
      "kazoo/results/145666/star_rsem/rsem.merged.gene_counts.tsv\n",
      "kazoo/results/147771/star_rsem/rsem.merged.gene_counts.tsv\n",
      "kazoo/results/154431/star_rsem/rsem.merged.gene_counts.tsv\n",
      "kazoo/results/158883/star_rsem/rsem.merged.gene_counts.tsv\n",
      "kazoo/results/165739/star_rsem/rsem.merged.gene_counts.tsv\n",
      "kazoo/results/172845/star_rsem/rsem.merged.gene_counts.tsv\n",
      "kazoo/results/174125/star_rsem/rsem.merged.gene_counts.tsv\n",
      "kazoo/results/175126/star_rsem/rsem.merged.gene_counts.tsv\n",
      "kazoo/results/242566/star_rsem/rsem.merged.gene_counts.tsv\n",
      "kazoo/results/245324/star_rsem/rsem.merged.gene_counts.tsv\n",
      "kazoo/results/251568/star_rsem/rsem.merged.gene_counts.tsv\n",
      "kazoo/results/283228/star_rsem/rsem.merged.gene_counts.tsv\n",
      "kazoo/results/299254/star_rsem/rsem.merged.gene_counts.tsv\n",
      "kazoo/results/422866/star_rsem/rsem.merged.gene_counts.tsv\n",
      "kazoo/results/454973/star_rsem/rsem.merged.gene_counts.tsv\n"
     ]
    }
   ],
   "source": [
    "sample_count = 0\n",
    "paginator = s3_client.get_paginator('list_objects_v2')\n",
    "pages = paginator.paginate(Bucket='zb4171', Prefix='kazoo/results/')\n",
    "for page in pages:\n",
    "    for obj in page['Contents']:\n",
    "        obj_key = obj['Key']\n",
    "        if obj_key.endswith('/star_rsem/rsem.merged.gene_counts.tsv') and 'failed_runs' not in obj_key and 'archive' not in obj_key and 'K2' not in obj_key:\n",
    "            sample_count += 1"
   ]
  }
 ],
 "metadata": {
  "kernelspec": {
   "display_name": "Python 3",
   "language": "python",
   "name": "python3"
  },
  "language_info": {
   "codemirror_mode": {
    "name": "ipython",
    "version": 3
   },
   "file_extension": ".py",
   "mimetype": "text/x-python",
   "name": "python",
   "nbconvert_exporter": "python",
   "pygments_lexer": "ipython3",
   "version": "3.11.4"
  }
 },
 "nbformat": 4,
 "nbformat_minor": 2
}
